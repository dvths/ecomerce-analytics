{
 "cells": [
  {
   "cell_type": "markdown",
   "id": "78f3d965-fdb8-471a-8ef9-3945d02bfd9d",
   "metadata": {},
   "source": [
    "# Resumo Executivo \n",
    "\n",
    "Este projeto apresenta uma análise aprofundada do conjunto de dados de comércio eletrônico realizado pela plataforma Olist, cobrindo o período de 2016 a 2018.\n",
    "\n",
    "O Olist é uma empresa que se entitula um ecossistema líder em soluções para vendas online. Seus produtos digitais são destinados a varejistas e marcas de todos os segmentos, com tecnologia integrada para auxiliar no crescimento e aumentar o faturamento de pequenas, médias e grandes empresas. \n",
    "\n",
    "O estudo, usando SQL e Python, explora várias dimensões do comércio eletrônico, incluindo padrões de pedidos, preferências de pagamento, entrega logística, categorização de produtos e desempenho do vendedor.\n",
    "\n",
    "As principais conclusões destacam tendências notáveis no comportamento do consumidor e na eficiência operacional da empresa. Os insights obtidos com esta análise não apenas esclarecem o estado atual do comércio eletrônico do olist, mas também preparam o terreno para pesquisas futuras. A próxima fase visa aprofundar o comportamento do vendedor, com foco na segmentação e estratégia, enriquecendo assim nossa compreensão da dinâmica do comércio eletrônico da plataforma."
   ]
  },
  {
   "cell_type": "markdown",
   "id": "a924ca19-b7f5-4d6b-a4ce-99b24db13427",
   "metadata": {},
   "source": [
    "## Conteúdo\n",
    "\n",
    "- [Descrição dos dados](#descrição-dos-dados)\n",
    "- [Objetivos do projeto](#objetivos-do-projeto)\n",
    "\n"
   ]
  },
  {
   "cell_type": "markdown",
   "id": "98e2b8f6-6b22-4926-bef2-d6b4088092cc",
   "metadata": {},
   "source": [
    "## Descrição dos dados\n",
    "\n",
    "O conjunto de dados públicos de comércio eletrônico da Olist é um conjunto de dados abrangente que contém dados de 100.000 pedidos entre os anos de 2016 à 2018. Esse rico conjunto de dados fornece uma visão multidimensional de cada pedido, abrangendo aspectos como status do pedido, preços, pagamento e desempenho do frete. Também inclui detalhes sobre a localização dos clientes, atributos do produto e avaliações dos clientes. O conjunto de dados compreende 9 bancos de dados relacionais, incluindo informações sobre clientes, pedidos, itens de pedidos, pagamentos, avaliações, vendedores, produtos, categorias de produtos e geolocalização. A estrutura desses bancos de dados é ilustrada no esquema de banco de dados a seguir.\n",
    "\n",
    "XXXXXX inculir imagem XXXXXXX\n"
   ]
  },
  {
   "cell_type": "markdown",
   "id": "5750c395-fb31-47f5-848d-19d60b5d7e3b",
   "metadata": {},
   "source": [
    "## Objetivos do projeto\n",
    "\n",
    "1. O objetivo principal desta análise é obter insights sobre as diversas facetas do comércio eletrônico realizado dentro da plataforma Olist, com foco em pedidos, pagamentos, entregas e produtos.\n",
    "2. Transformar dados complexos de comércio eletrônico em um formato de fácil compreensão, proporcionando aos leitores uma visão clara e concisa do cenário do comércio eletrônico da plataforma Olist."
   ]
  },
  {
   "cell_type": "markdown",
   "id": "6f4fbc32-e991-4152-be9b-1237b4f0f8bb",
   "metadata": {},
   "source": [
    "## Analise Exploratória dos Dados (EDA)"
   ]
  },
  {
   "cell_type": "markdown",
   "id": "06ce5145-c8a9-444e-9800-3c4507b99987",
   "metadata": {},
   "source": [
    "### Configuração do Projeto\n",
    "\n",
    "Para preparar o projeto, execute o scripit `startup.sh`. Ele irá realizar as seguintes tarefas:\n",
    "\n",
    "1. Inicializará uma imagem Docker do Postgres\n",
    "2. Executará o arquivo main.py\n",
    "\n",
    "**main.py**: Utiliza duas classes: `OlistDataExtractor`, que extrai os datasets csv do arquivo `olist_data.zip` para um diretório `/data/raw`. E `OlistDataLoader` que carrega e cria as tabelas no banco de dados Postgres. (Veja o README do projeto para mais detalhes.) "
   ]
  },
  {
   "cell_type": "markdown",
   "id": "7e838113-9785-41c0-bb46-e0864520bf94",
   "metadata": {},
   "source": [
    "## Conexão como o Postgres\n",
    "\n",
    "**Importações básicas**"
   ]
  },
  {
   "cell_type": "code",
   "execution_count": null,
   "id": "e62fe63d-a3eb-48c9-b7b9-80d419b1e3eb",
   "metadata": {},
   "outputs": [],
   "source": [
    "import os\n",
    "\n",
    "import pandas as pd\n",
    "import psycopg2\n",
    "from dotenv import load_dotenv\n",
    "from sqlalchemy import create_engine\n",
    "\n",
    "load_dotenv()"
   ]
  },
  {
   "cell_type": "markdown",
   "id": "382b6b2d-a262-4a90-99ea-1a065d747bbc",
   "metadata": {},
   "source": [
    "**Carregameno do módulo sql**"
   ]
  },
  {
   "cell_type": "code",
   "execution_count": null,
   "id": "fecd787b-9039-4d53-870c-826d9f829dc3",
   "metadata": {},
   "outputs": [],
   "source": [
    "%load_ext sql"
   ]
  },
  {
   "cell_type": "markdown",
   "id": "13cf9ec0-bb73-4fcc-a1c1-a97ea76d8bce",
   "metadata": {},
   "source": [
    "**Conexão com o banco de dados**"
   ]
  },
  {
   "cell_type": "code",
   "execution_count": null,
   "id": "1253550f-2805-41ef-b3e8-8e71890e1d78",
   "metadata": {},
   "outputs": [],
   "source": [
    "conn = os.environ.get(\"CONNECTION_STRING\")"
   ]
  },
  {
   "cell_type": "code",
   "execution_count": null,
   "id": "7ddd3baf-a0cd-452a-b831-21cd105ac016",
   "metadata": {},
   "outputs": [],
   "source": [
    "%sql {conn}"
   ]
  },
  {
   "cell_type": "markdown",
   "id": "26369d4c-a5bb-4dd3-80b6-8e1280a36d7c",
   "metadata": {},
   "source": [
    "**Confere o schema do banco**"
   ]
  },
  {
   "cell_type": "code",
   "execution_count": null,
   "id": "09d4c52d-7bfc-4c3f-add5-ded67e9f9759",
   "metadata": {},
   "outputs": [],
   "source": [
    "%%sql\n",
    "SELECT *\n",
    "FROM pg_catalog.pg_tables\n",
    "WHERE schemaname != 'pg_catalog' AND \n",
    "    schemaname != 'information_schema';"
   ]
  },
  {
   "cell_type": "code",
   "execution_count": null,
   "id": "fad05a0a-3c9f-4de7-9e17-e59881f46f7b",
   "metadata": {},
   "outputs": [],
   "source": []
  },
  {
   "cell_type": "code",
   "execution_count": null,
   "id": "36c7faa3-9dfa-46a4-8cf5-40ff7c5672ef",
   "metadata": {},
   "outputs": [],
   "source": []
  }
 ],
 "metadata": {
  "kernelspec": {
   "display_name": "Python 3 (ipykernel)",
   "language": "python",
   "name": "python3"
  }
 },
 "nbformat": 4,
 "nbformat_minor": 5
}
